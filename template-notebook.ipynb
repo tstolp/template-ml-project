{
 "cells": [
  {
   "cell_type": "code",
   "execution_count": null,
   "metadata": {},
   "outputs": [],
   "source": [
    "from hydra import initialize, compose\n",
    "\n",
    "with initialize(config_path=\"config\"):\n",
    "    cfg = compose(config_name=\"config\")\n",
    "\n",
    "print(cfg.pretty())"
   ]
  }
 ],
 "metadata": {
  "language_info": {
   "name": "python"
  }
 },
 "nbformat": 4,
 "nbformat_minor": 2
}
